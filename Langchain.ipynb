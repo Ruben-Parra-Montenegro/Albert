{
  "cells": [
    {
      "cell_type": "markdown",
      "metadata": {},
      "source": [
        "## Simple Agent Example"
      ]
    },
    {
      "cell_type": "code",
      "execution_count": null,
      "metadata": {
        "id": "8d799b3c"
      },
      "outputs": [],
      "source": [
        "import os"
      ]
    },
    {
      "cell_type": "markdown",
      "metadata": {
        "id": "fK19rSqpQ19S"
      },
      "source": [
        "# TOOLS"
      ]
    },
    {
      "cell_type": "markdown",
      "metadata": {
        "id": "ooRAzzfAqVJh"
      },
      "source": [
        "When writing a tool, make sure to include the docstring which is the \"\"\" instructions here \"\"\""
      ]
    },
    {
      "cell_type": "code",
      "execution_count": null,
      "metadata": {
        "id": "HSUE-ybaQ1Rs"
      },
      "outputs": [],
      "source": [
        "def Write_to_file(topic: str, file_name: str, file_content) -> str:\n",
        "    \"\"\"Create MarkDown or Text file with notes based on what context was given.\"\"\"\n",
        "\n",
        "    file_name = file_name\n",
        "    content = file_content\n",
        "\n",
        "    with open(file_name, 'w', encoding='utf-8') as file:\n",
        "        file.write(content)\n",
        "\n",
        "    return f\"File created for {topic}, with name: {file_name}\"\n"
      ]
    },
    {
      "cell_type": "markdown",
      "metadata": {
        "id": "MoQH8OLva1_Y"
      },
      "source": [
        "## Google Tools"
      ]
    },
    {
      "cell_type": "code",
      "execution_count": null,
      "metadata": {
        "id": "h8UeY9YTbGY_"
      },
      "outputs": [],
      "source": [
        "# !pip install langchain-google-community"
      ]
    },
    {
      "cell_type": "code",
      "execution_count": null,
      "metadata": {
        "id": "Lt-a-Xo2bFxn"
      },
      "outputs": [],
      "source": [
        "# from langchain_google_community.calendar.create_event import CalendarCreateEvent\n",
        "\n",
        "# # @tool(\"create_calendar_event\", return_direct=True)\n",
        "# def create_calendar_event(\n",
        "#     summary: str,\n",
        "#     start_datetime: str,\n",
        "#     end_datetime: str,\n",
        "#     location: str = \"\",\n",
        "#     description: str = \"\",\n",
        "#     timezone: str = \"America/Detroit\",\n",
        "# ) -> str:\n",
        "#     \"\"\"Create a Google Calendar event and return its meeting link or summary.\"\"\"\n",
        "#     create_event = CalendarCreateEvent()\n",
        "\n",
        "#     event = {\n",
        "#         \"summary\": summary,\n",
        "#         \"start_datetime\": start_datetime,\n",
        "#         \"end_datetime\": end_datetime,\n",
        "#         \"timezone\": timezone,\n",
        "#         \"location\": location,\n",
        "#         \"description\": description,\n",
        "#         \"conference_data\": True,  # generates Google Meet link\n",
        "#     }\n",
        "\n",
        "#     try:\n",
        "#         url = create_event.invoke(event)\n",
        "#         return f\"✅ Event created: {summary}\\n🕒 {start_datetime} – {end_datetime}\\n🔗 {url}\"\n",
        "#     except Exception as e:\n",
        "#         return f\"❌ Failed to create event: {e}\""
      ]
    },
    {
      "cell_type": "code",
      "execution_count": null,
      "metadata": {
        "id": "Vr62FXY-bQ-a"
      },
      "outputs": [],
      "source": [
        "# from langchain_google_community.calendar.search_events import CalendarSearchEvents\n",
        "# from datetime import datetime\n",
        "\n",
        "# # @tool(\"search_calendar_events\", return_direct=True)\n",
        "# def search_calendar_events(\n",
        "#     query: str,\n",
        "#     time_min: str = datetime.utcnow().strftime(\"%Y-%m-%dT00:00:00\"),\n",
        "#     time_max: str = datetime.utcnow().strftime(\"%Y-%m-%dT23:59:59\"),\n",
        "#     max_results: int = 5,\n",
        "# ) -> str:\n",
        "#     \"\"\"Search Google Calendar for events matching a query.\"\"\"\n",
        "#     search = CalendarSearchEvents()\n",
        "#     try:\n",
        "#         results = search.invoke({\n",
        "#             \"query\": query,\n",
        "#             \"time_min\": time_min,\n",
        "#             \"time_max\": time_max,\n",
        "#             \"max_results\": max_results\n",
        "#         })\n",
        "#         if not results:\n",
        "#             return f\"No events found for query '{query}'.\"\n",
        "#         return f\"Found {len(results)} events:\\n\" + \"\\n\".join(str(r) for r in results)\n",
        "#     except Exception as e:\n",
        "#         return f\"Error searching calendar: {e}\"\n"
      ]
    },
    {
      "cell_type": "markdown",
      "metadata": {
        "id": "R06ZsHvndxTE"
      },
      "source": [
        "# SerpAPIWrapper - Real-Time Web Search via Google"
      ]
    },
    {
      "cell_type": "code",
      "execution_count": null,
      "metadata": {
        "id": "Hb57lvBTd5-Y"
      },
      "outputs": [],
      "source": [
        "from langchain_community.utilities import SerpAPIWrapper\n",
        "api_key = os.getenv(\"SERPAPI_API_KEY\")"
      ]
    },
    {
      "cell_type": "code",
      "execution_count": null,
      "metadata": {
        "id": "6rkL9HF5d787"
      },
      "outputs": [],
      "source": [
        "def Google_search(Search_topic: str) -> str:\n",
        "  \"\"\"Search the web for the desired topic and return the output.\"\"\"\n",
        "  search = SerpAPIWrapper()\n",
        "\n",
        "  params = {\n",
        "        \"engine\": \"bing\",\n",
        "        \"gl\": \"us\",\n",
        "        \"hl\": \"en\",\n",
        "  }\n",
        "  search = SerpAPIWrapper(params=params)\n",
        "\n",
        "  output = search.run(Search_topic)\n",
        "\n",
        "  return f\"Here is what I found: {output}\""
      ]
    },
    {
      "cell_type": "markdown",
      "metadata": {
        "id": "x63iTb5tQ539"
      },
      "source": [
        "# Agent/Model definition"
      ]
    },
    {
      "cell_type": "code",
      "execution_count": null,
      "metadata": {
        "colab": {
          "base_uri": "https://localhost:8080/"
        },
        "id": "jpjWBL8EMC5p",
        "outputId": "53d05989-acae-4187-8d28-0d16686bc049"
      },
      "outputs": [],
      "source": [
        "from langchain.agents import create_agent\n",
        "from langchain_openai import ChatOpenAI # Import ChatOpenAI\n",
        "\n",
        "# Initialize the ChatOpenAI model with OpenRouter settings\n",
        "chat_model = ChatOpenAI(\n",
        "    model=\"nvidia/nemotron-nano-9b-v2:free\",\n",
        "    base_url=\"https://openrouter.ai/api/v1\",\n",
        "    api_key=os.getenv('OPENROUTER_API_KEY'),\n",
        ")\n",
        "# , define_requirements\n",
        "agent = create_agent(\n",
        "    model=chat_model, # Pass the initialized chat model object\n",
        "    tools=[Write_to_file, Google_search],\n",
        "    system_prompt=\n",
        "    \"\"\"\n",
        "    You are a helpful assistant,\n",
        "\n",
        "    You are able to do various things:\n",
        "\n",
        "    - Search Google for relevant information on a topic.\n",
        "    - Create files and write to them, for things such as notes, code files, etc.\n",
        "    \"\"\"\n",
        ")\n",
        "\n",
        "# Run the agent\n",
        "agent.invoke(\n",
        "    {\"messages\": [{\"role\": \"user\", \"content\": \"Can you write me some rust code and put it in a .rs file?\"}]}\n",
        ")"
      ]
    }
  ],
  "metadata": {
    "colab": {
      "collapsed_sections": [
        "MoQH8OLva1_Y"
      ],
      "provenance": []
    },
    "kernelspec": {
      "display_name": "venv",
      "language": "python",
      "name": "python3"
    },
    "language_info": {
      "codemirror_mode": {
        "name": "ipython",
        "version": 3
      },
      "file_extension": ".py",
      "mimetype": "text/x-python",
      "name": "python",
      "nbconvert_exporter": "python",
      "pygments_lexer": "ipython3",
      "version": "3.12.10"
    }
  },
  "nbformat": 4,
  "nbformat_minor": 0
}
